{
 "cells": [
  {
   "cell_type": "markdown",
   "id": "49436d72",
   "metadata": {},
   "source": [
    "1. What are the two values of the Boolean data type? How do you write them?\n",
    "   A boolean data type can only take the values true or false .when the value is returned ,i.e. true=1 and false=0."
   ]
  },
  {
   "cell_type": "markdown",
   "id": "68eda281",
   "metadata": {},
   "source": [
    "2. What are the three different types of Boolean operators?\n",
    "   The boolean opertors are and,or and not."
   ]
  },
  {
   "cell_type": "markdown",
   "id": "a17d4f0c",
   "metadata": {},
   "source": [
    "3. Make a list of each Boolean operator's truth tables (i.e. every possible combination of Boolean values for the operator    and what it evaluate )?\n",
    "   True and True is True\n",
    "   True and False is False \n",
    "   False and True is False\n",
    "   False and False is False\n",
    "   True or True is True \n",
    "    True or False is True\n",
    "    False or True is True \n",
    "    False or False is False \n",
    "    not True is False \n",
    "    not False is True ."
   ]
  },
  {
   "cell_type": "markdown",
   "id": "bd259562",
   "metadata": {},
   "source": [
    "4. What are the values of the following expressions?\n",
    "1. (5 > 4) and (3 == 5) = False\n",
    "2. not (5 > 4) = False \n",
    "3. (5 > 4) or (3 == 5) = True\n",
    "4. not ((5 > 4) or (3 == 5)) = False \n",
    "5. (True and True) and (True == False) = False\n",
    "6. (not False) or (not True) = True."
   ]
  },
  {
   "cell_type": "markdown",
   "id": "4405c030",
   "metadata": {},
   "source": [
    "5. What are the six comparison operators?\n",
    "   Less than(<)\n",
    "   Less than or equal to(<=)\n",
    "   Greater than (>)\n",
    "   Greater than or equal to (>=)\n",
    "   Equal to (==)\n",
    "   Not equal to (!=) ."
   ]
  },
  {
   "cell_type": "code",
   "execution_count": null,
   "id": "e39af05f",
   "metadata": {},
   "outputs": [],
   "source": [
    "6.  How do you tell the difference between the equal to and assignment operators?Describe a condition and when you would use one?\n",
    "    The \"=\" is an assignment operator is used to assign the value .The \"==\" is a comparision opertor and operator checks whether the two given operands are equal or not. "
   ]
  },
  {
   "cell_type": "markdown",
   "id": "a9bdd067",
   "metadata": {},
   "source": [
    "7. Identify the three blocks in this code:\n",
    "   spam = 0\n",
    "   if spam == 10:\n",
    "       print('eggs')\n",
    "   elif spam > 5:\n",
    "       print('bacon')\n",
    "   else:\n",
    "       print('ham')\n",
    "       print('spam')\n",
    "       print('spam')?"
   ]
  },
  {
   "cell_type": "markdown",
   "id": "78417f9b",
   "metadata": {},
   "source": [
    "8. Write code that prints Hello if 1 is stored in spam, prints Howdy if 2 is stored in spam, and prints Greetings! if anything else is stored in spam?\n",
    "   if spam == 1:\n",
    "       print(\"Hello\")\n",
    "   elif spam == 2:\n",
    "       print (\"Howdy\")\n",
    "   else:\n",
    "       print (\"greetings\")"
   ]
  },
  {
   "cell_type": "markdown",
   "id": "935e5e57",
   "metadata": {},
   "source": [
    "9. If your programme is stuck in an endless loop, what keys you will press?\n",
    "   An infinite loop is a loop that runs indefinitely and it only stops with external intervention or when a break statement is found "
   ]
  },
  {
   "cell_type": "markdown",
   "id": "cc16ec6e",
   "metadata": {},
   "source": [
    "10. How can you tell the difference between break and continue?\n",
    "    BREAK = 'Break' is used to come out of the lop when encountered. It instruct the program to - exit the loop now \n",
    "    CONTINUE = 'Continue' is used to stop the current iteration of the loop and continue with the next one  "
   ]
  },
  {
   "cell_type": "markdown",
   "id": "aafdb5cb",
   "metadata": {},
   "source": [
    "11. In a for loop, what is the difference between range(10), range(0, 10), and range(0, 10,1)? \n",
    "    range(10) = range(10) is used to generate a sequence of number in for loop  \n",
    "    range(0,10) = range(0,10) is used to generate a sequence of number in for loop \n",
    "    range(0,10,1) = range(0,10,1) is used to generate a sequence of number in for loop"
   ]
  },
  {
   "cell_type": "markdown",
   "id": "65a16d86",
   "metadata": {},
   "source": [
    "12. Write a short program that prints the numbers 1 to 10 using a for loop. Then write an equivalent program that prints the numbers 1 to 10 using a while loop?\n",
    "    i = 0\n",
    "    while (i<4):\n",
    "       #print(i)\n",
    "        i = i+1\n",
    "    for i in range(0,10):\n",
    "        print(i)"
   ]
  },
  {
   "cell_type": "markdown",
   "id": "6f559589",
   "metadata": {},
   "source": [
    "13. If you had a function named bacon() inside a module named spam, how would you call it after importing spam?\n",
    "    This function can be called with spam.bacon()."
   ]
  }
 ],
 "metadata": {
  "kernelspec": {
   "display_name": "Python 3 (ipykernel)",
   "language": "python",
   "name": "python3"
  },
  "language_info": {
   "codemirror_mode": {
    "name": "ipython",
    "version": 3
   },
   "file_extension": ".py",
   "mimetype": "text/x-python",
   "name": "python",
   "nbconvert_exporter": "python",
   "pygments_lexer": "ipython3",
   "version": "3.9.7"
  }
 },
 "nbformat": 4,
 "nbformat_minor": 5
}
